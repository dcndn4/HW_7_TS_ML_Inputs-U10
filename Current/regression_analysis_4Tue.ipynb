{
 "cells": [
  {
   "cell_type": "code",
   "execution_count": 14,
   "metadata": {},
   "outputs": [],
   "source": [
    "import numpy as np\n",
    "import pandas as pd\n",
    "from pathlib import Path\n",
    "%matplotlib inline"
   ]
  },
  {
   "cell_type": "markdown",
   "metadata": {},
   "source": [
    "# Regression Analysis: Seasonal Effects with Sklearn Linear Regression\n",
    "In this notebook, you will build a SKLearn linear regression model to predict Yen futures (\"settle\") returns with *lagged* Yen futures returns. "
   ]
  },
  {
   "cell_type": "code",
   "execution_count": 15,
   "metadata": {},
   "outputs": [
    {
     "data": {
      "text/html": [
       "<div>\n",
       "<style scoped>\n",
       "    .dataframe tbody tr th:only-of-type {\n",
       "        vertical-align: middle;\n",
       "    }\n",
       "\n",
       "    .dataframe tbody tr th {\n",
       "        vertical-align: top;\n",
       "    }\n",
       "\n",
       "    .dataframe thead th {\n",
       "        text-align: right;\n",
       "    }\n",
       "</style>\n",
       "<table border=\"1\" class=\"dataframe\">\n",
       "  <thead>\n",
       "    <tr style=\"text-align: right;\">\n",
       "      <th></th>\n",
       "      <th>Open</th>\n",
       "      <th>High</th>\n",
       "      <th>Low</th>\n",
       "      <th>Last</th>\n",
       "      <th>Change</th>\n",
       "      <th>Settle</th>\n",
       "      <th>Volume</th>\n",
       "      <th>Previous Day Open Interest</th>\n",
       "    </tr>\n",
       "    <tr>\n",
       "      <th>Date</th>\n",
       "      <th></th>\n",
       "      <th></th>\n",
       "      <th></th>\n",
       "      <th></th>\n",
       "      <th></th>\n",
       "      <th></th>\n",
       "      <th></th>\n",
       "      <th></th>\n",
       "    </tr>\n",
       "  </thead>\n",
       "  <tbody>\n",
       "    <tr>\n",
       "      <th>1976-08-02</th>\n",
       "      <td>3398.0</td>\n",
       "      <td>3401.0</td>\n",
       "      <td>3398.0</td>\n",
       "      <td>3401.0</td>\n",
       "      <td>NaN</td>\n",
       "      <td>3401.0</td>\n",
       "      <td>2.0</td>\n",
       "      <td>1.0</td>\n",
       "    </tr>\n",
       "    <tr>\n",
       "      <th>1976-08-03</th>\n",
       "      <td>3401.0</td>\n",
       "      <td>3401.0</td>\n",
       "      <td>3401.0</td>\n",
       "      <td>3401.0</td>\n",
       "      <td>NaN</td>\n",
       "      <td>3401.0</td>\n",
       "      <td>0.0</td>\n",
       "      <td>1.0</td>\n",
       "    </tr>\n",
       "    <tr>\n",
       "      <th>1976-08-04</th>\n",
       "      <td>3401.0</td>\n",
       "      <td>3401.0</td>\n",
       "      <td>3401.0</td>\n",
       "      <td>3401.0</td>\n",
       "      <td>NaN</td>\n",
       "      <td>3401.0</td>\n",
       "      <td>0.0</td>\n",
       "      <td>1.0</td>\n",
       "    </tr>\n",
       "    <tr>\n",
       "      <th>1976-08-05</th>\n",
       "      <td>3401.0</td>\n",
       "      <td>3401.0</td>\n",
       "      <td>3401.0</td>\n",
       "      <td>3401.0</td>\n",
       "      <td>NaN</td>\n",
       "      <td>3401.0</td>\n",
       "      <td>0.0</td>\n",
       "      <td>1.0</td>\n",
       "    </tr>\n",
       "    <tr>\n",
       "      <th>1976-08-06</th>\n",
       "      <td>3401.0</td>\n",
       "      <td>3401.0</td>\n",
       "      <td>3401.0</td>\n",
       "      <td>3401.0</td>\n",
       "      <td>NaN</td>\n",
       "      <td>3401.0</td>\n",
       "      <td>0.0</td>\n",
       "      <td>1.0</td>\n",
       "    </tr>\n",
       "  </tbody>\n",
       "</table>\n",
       "</div>"
      ],
      "text/plain": [
       "              Open    High     Low    Last  Change  Settle  Volume  \\\n",
       "Date                                                                 \n",
       "1976-08-02  3398.0  3401.0  3398.0  3401.0     NaN  3401.0     2.0   \n",
       "1976-08-03  3401.0  3401.0  3401.0  3401.0     NaN  3401.0     0.0   \n",
       "1976-08-04  3401.0  3401.0  3401.0  3401.0     NaN  3401.0     0.0   \n",
       "1976-08-05  3401.0  3401.0  3401.0  3401.0     NaN  3401.0     0.0   \n",
       "1976-08-06  3401.0  3401.0  3401.0  3401.0     NaN  3401.0     0.0   \n",
       "\n",
       "            Previous Day Open Interest  \n",
       "Date                                    \n",
       "1976-08-02                         1.0  \n",
       "1976-08-03                         1.0  \n",
       "1976-08-04                         1.0  \n",
       "1976-08-05                         1.0  \n",
       "1976-08-06                         1.0  "
      ]
     },
     "execution_count": 15,
     "metadata": {},
     "output_type": "execute_result"
    }
   ],
   "source": [
    "# Futures contract on the Yen-dollar exchange rate:\n",
    "# This is the continuous chain of the futures contracts that are 1 month to expiration\n",
    "filepath=\"C:/Users/CS_Knit_tinK_SC/Documents/GitHub/HW_7_TS_ML_Inputs-U10/Resources/yen.csv\"\n",
    "yen_futures = pd.read_csv(filepath, index_col=\"Date\", infer_datetime_format=True, parse_dates=True)\n",
    "\n",
    "yen_futures.head()"
   ]
  },
  {
   "cell_type": "code",
   "execution_count": 16,
   "metadata": {},
   "outputs": [
    {
     "data": {
      "text/html": [
       "<div>\n",
       "<style scoped>\n",
       "    .dataframe tbody tr th:only-of-type {\n",
       "        vertical-align: middle;\n",
       "    }\n",
       "\n",
       "    .dataframe tbody tr th {\n",
       "        vertical-align: top;\n",
       "    }\n",
       "\n",
       "    .dataframe thead th {\n",
       "        text-align: right;\n",
       "    }\n",
       "</style>\n",
       "<table border=\"1\" class=\"dataframe\">\n",
       "  <thead>\n",
       "    <tr style=\"text-align: right;\">\n",
       "      <th></th>\n",
       "      <th>Open</th>\n",
       "      <th>High</th>\n",
       "      <th>Low</th>\n",
       "      <th>Last</th>\n",
       "      <th>Change</th>\n",
       "      <th>Settle</th>\n",
       "      <th>Volume</th>\n",
       "      <th>Previous Day Open Interest</th>\n",
       "    </tr>\n",
       "    <tr>\n",
       "      <th>Date</th>\n",
       "      <th></th>\n",
       "      <th></th>\n",
       "      <th></th>\n",
       "      <th></th>\n",
       "      <th></th>\n",
       "      <th></th>\n",
       "      <th></th>\n",
       "      <th></th>\n",
       "    </tr>\n",
       "  </thead>\n",
       "  <tbody>\n",
       "    <tr>\n",
       "      <th>1990-01-02</th>\n",
       "      <td>6954.0</td>\n",
       "      <td>6954.0</td>\n",
       "      <td>6835.0</td>\n",
       "      <td>6847.0</td>\n",
       "      <td>NaN</td>\n",
       "      <td>6847.0</td>\n",
       "      <td>48336.0</td>\n",
       "      <td>51473.0</td>\n",
       "    </tr>\n",
       "    <tr>\n",
       "      <th>1990-01-03</th>\n",
       "      <td>6877.0</td>\n",
       "      <td>6910.0</td>\n",
       "      <td>6865.0</td>\n",
       "      <td>6887.0</td>\n",
       "      <td>NaN</td>\n",
       "      <td>6887.0</td>\n",
       "      <td>38206.0</td>\n",
       "      <td>53860.0</td>\n",
       "    </tr>\n",
       "    <tr>\n",
       "      <th>1990-01-04</th>\n",
       "      <td>6937.0</td>\n",
       "      <td>7030.0</td>\n",
       "      <td>6924.0</td>\n",
       "      <td>7008.0</td>\n",
       "      <td>NaN</td>\n",
       "      <td>7008.0</td>\n",
       "      <td>49649.0</td>\n",
       "      <td>55699.0</td>\n",
       "    </tr>\n",
       "    <tr>\n",
       "      <th>1990-01-05</th>\n",
       "      <td>6952.0</td>\n",
       "      <td>6985.0</td>\n",
       "      <td>6942.0</td>\n",
       "      <td>6950.0</td>\n",
       "      <td>NaN</td>\n",
       "      <td>6950.0</td>\n",
       "      <td>29944.0</td>\n",
       "      <td>53111.0</td>\n",
       "    </tr>\n",
       "    <tr>\n",
       "      <th>1990-01-08</th>\n",
       "      <td>6936.0</td>\n",
       "      <td>6972.0</td>\n",
       "      <td>6936.0</td>\n",
       "      <td>6959.0</td>\n",
       "      <td>NaN</td>\n",
       "      <td>6959.0</td>\n",
       "      <td>19763.0</td>\n",
       "      <td>52072.0</td>\n",
       "    </tr>\n",
       "  </tbody>\n",
       "</table>\n",
       "</div>"
      ],
      "text/plain": [
       "              Open    High     Low    Last  Change  Settle   Volume  \\\n",
       "Date                                                                  \n",
       "1990-01-02  6954.0  6954.0  6835.0  6847.0     NaN  6847.0  48336.0   \n",
       "1990-01-03  6877.0  6910.0  6865.0  6887.0     NaN  6887.0  38206.0   \n",
       "1990-01-04  6937.0  7030.0  6924.0  7008.0     NaN  7008.0  49649.0   \n",
       "1990-01-05  6952.0  6985.0  6942.0  6950.0     NaN  6950.0  29944.0   \n",
       "1990-01-08  6936.0  6972.0  6936.0  6959.0     NaN  6959.0  19763.0   \n",
       "\n",
       "            Previous Day Open Interest  \n",
       "Date                                    \n",
       "1990-01-02                     51473.0  \n",
       "1990-01-03                     53860.0  \n",
       "1990-01-04                     55699.0  \n",
       "1990-01-05                     53111.0  \n",
       "1990-01-08                     52072.0  "
      ]
     },
     "execution_count": 16,
     "metadata": {},
     "output_type": "execute_result"
    }
   ],
   "source": [
    "# Trim the dataset to begin on January 1st, 1990\n",
    "yen_futures = yen_futures.loc[\"1990-01-01\":, :]\n",
    "yen_futures.head()"
   ]
  },
  {
   "cell_type": "markdown",
   "metadata": {},
   "source": [
    "# Data Preparation"
   ]
  },
  {
   "cell_type": "markdown",
   "metadata": {},
   "source": [
    "### Returns"
   ]
  },
  {
   "cell_type": "code",
   "execution_count": 17,
   "metadata": {},
   "outputs": [
    {
     "data": {
      "text/html": [
       "<div>\n",
       "<style scoped>\n",
       "    .dataframe tbody tr th:only-of-type {\n",
       "        vertical-align: middle;\n",
       "    }\n",
       "\n",
       "    .dataframe tbody tr th {\n",
       "        vertical-align: top;\n",
       "    }\n",
       "\n",
       "    .dataframe thead th {\n",
       "        text-align: right;\n",
       "    }\n",
       "</style>\n",
       "<table border=\"1\" class=\"dataframe\">\n",
       "  <thead>\n",
       "    <tr style=\"text-align: right;\">\n",
       "      <th></th>\n",
       "      <th>Returns</th>\n",
       "    </tr>\n",
       "    <tr>\n",
       "      <th>Date</th>\n",
       "      <th></th>\n",
       "    </tr>\n",
       "  </thead>\n",
       "  <tbody>\n",
       "    <tr>\n",
       "      <th>2019-10-09</th>\n",
       "      <td>-0.410601</td>\n",
       "    </tr>\n",
       "    <tr>\n",
       "      <th>2019-10-10</th>\n",
       "      <td>-0.369458</td>\n",
       "    </tr>\n",
       "    <tr>\n",
       "      <th>2019-10-11</th>\n",
       "      <td>-0.564304</td>\n",
       "    </tr>\n",
       "    <tr>\n",
       "      <th>2019-10-14</th>\n",
       "      <td>0.151335</td>\n",
       "    </tr>\n",
       "    <tr>\n",
       "      <th>2019-10-15</th>\n",
       "      <td>-0.469509</td>\n",
       "    </tr>\n",
       "  </tbody>\n",
       "</table>\n",
       "</div>"
      ],
      "text/plain": [
       "             Returns\n",
       "Date                \n",
       "2019-10-09 -0.410601\n",
       "2019-10-10 -0.369458\n",
       "2019-10-11 -0.564304\n",
       "2019-10-14  0.151335\n",
       "2019-10-15 -0.469509"
      ]
     },
     "execution_count": 17,
     "metadata": {},
     "output_type": "execute_result"
    }
   ],
   "source": [
    "# Create a series using \"Settle\" price percentage returns, drop any nan\"s, and check the results:\n",
    "# (Make sure to multiply the pct_change() results by 100)\n",
    "# In this case, you may have to replace inf, -inf values with np.nan\"s\n",
    "returns = (yen_futures[[\"Settle\"]].pct_change() * 100)\n",
    "returns.rename(columns={'Settle':'Returns'}, inplace=True)\n",
    "returns = returns.replace(-np.inf, np.nan).dropna()\n",
    "returns.tail()"
   ]
  },
  {
   "cell_type": "markdown",
   "metadata": {},
   "source": [
    "### Lagged Returns "
   ]
  },
  {
   "cell_type": "code",
   "execution_count": 18,
   "metadata": {},
   "outputs": [
    {
     "data": {
      "text/html": [
       "<div>\n",
       "<style scoped>\n",
       "    .dataframe tbody tr th:only-of-type {\n",
       "        vertical-align: middle;\n",
       "    }\n",
       "\n",
       "    .dataframe tbody tr th {\n",
       "        vertical-align: top;\n",
       "    }\n",
       "\n",
       "    .dataframe thead th {\n",
       "        text-align: right;\n",
       "    }\n",
       "</style>\n",
       "<table border=\"1\" class=\"dataframe\">\n",
       "  <thead>\n",
       "    <tr style=\"text-align: right;\">\n",
       "      <th></th>\n",
       "      <th>Returns</th>\n",
       "      <th>Lagged_Return</th>\n",
       "    </tr>\n",
       "    <tr>\n",
       "      <th>Date</th>\n",
       "      <th></th>\n",
       "      <th></th>\n",
       "    </tr>\n",
       "  </thead>\n",
       "  <tbody>\n",
       "    <tr>\n",
       "      <th>2019-10-09</th>\n",
       "      <td>-0.410601</td>\n",
       "      <td>0.170931</td>\n",
       "    </tr>\n",
       "    <tr>\n",
       "      <th>2019-10-10</th>\n",
       "      <td>-0.369458</td>\n",
       "      <td>-0.410601</td>\n",
       "    </tr>\n",
       "    <tr>\n",
       "      <th>2019-10-11</th>\n",
       "      <td>-0.564304</td>\n",
       "      <td>-0.369458</td>\n",
       "    </tr>\n",
       "    <tr>\n",
       "      <th>2019-10-14</th>\n",
       "      <td>0.151335</td>\n",
       "      <td>-0.564304</td>\n",
       "    </tr>\n",
       "    <tr>\n",
       "      <th>2019-10-15</th>\n",
       "      <td>-0.469509</td>\n",
       "      <td>0.151335</td>\n",
       "    </tr>\n",
       "  </tbody>\n",
       "</table>\n",
       "</div>"
      ],
      "text/plain": [
       "             Returns  Lagged_Return\n",
       "Date                               \n",
       "2019-10-09 -0.410601       0.170931\n",
       "2019-10-10 -0.369458      -0.410601\n",
       "2019-10-11 -0.564304      -0.369458\n",
       "2019-10-14  0.151335      -0.564304\n",
       "2019-10-15 -0.469509       0.151335"
      ]
     },
     "execution_count": 18,
     "metadata": {},
     "output_type": "execute_result"
    }
   ],
   "source": [
    "# Create a lagged return using the shift function\n",
    "returns['Lagged_Return'] = returns.shift()  # creates a lag of 1, for autoregressive factor\n",
    "returns.tail()"
   ]
  },
  {
   "cell_type": "markdown",
   "metadata": {},
   "source": [
    "### Train Test Split"
   ]
  },
  {
   "cell_type": "code",
   "execution_count": 26,
   "metadata": {},
   "outputs": [],
   "source": [
    "# Create a train/test split for the data using 2018-2019 for testing and the rest for training\n",
    "train = returns.loc[:\"2017\"].dropna()\n",
    "test = returns.loc[\"2018\":\"2019\"]"
   ]
  },
  {
   "cell_type": "code",
   "execution_count": 27,
   "metadata": {},
   "outputs": [],
   "source": [
    "# Create four dataframes:\n",
    "# X_train (training set using just the independent variables), X_test (test set of of just the independent variables)\n",
    "# Y_train (training set using just the \"y\" variable, i.e., \"Futures Return\"), Y_test (test set of just the \"y\" variable):\n",
    "X_train = train[\"Lagged_Return\"].to_frame()\n",
    "X_test = test[\"Lagged_Return\"].to_frame()\n",
    "\n",
    "y_train = train[\"Returns\"]\n",
    "y_test = test[\"Returns\"]"
   ]
  },
  {
   "cell_type": "code",
   "execution_count": 28,
   "metadata": {},
   "outputs": [
    {
     "data": {
      "text/html": [
       "<div>\n",
       "<style scoped>\n",
       "    .dataframe tbody tr th:only-of-type {\n",
       "        vertical-align: middle;\n",
       "    }\n",
       "\n",
       "    .dataframe tbody tr th {\n",
       "        vertical-align: top;\n",
       "    }\n",
       "\n",
       "    .dataframe thead th {\n",
       "        text-align: right;\n",
       "    }\n",
       "</style>\n",
       "<table border=\"1\" class=\"dataframe\">\n",
       "  <thead>\n",
       "    <tr style=\"text-align: right;\">\n",
       "      <th></th>\n",
       "      <th>Lagged_Return</th>\n",
       "    </tr>\n",
       "    <tr>\n",
       "      <th>Date</th>\n",
       "      <th></th>\n",
       "    </tr>\n",
       "  </thead>\n",
       "  <tbody>\n",
       "    <tr>\n",
       "      <th>1990-01-04</th>\n",
       "      <td>0.584197</td>\n",
       "    </tr>\n",
       "    <tr>\n",
       "      <th>1990-01-05</th>\n",
       "      <td>1.756933</td>\n",
       "    </tr>\n",
       "    <tr>\n",
       "      <th>1990-01-08</th>\n",
       "      <td>-0.827626</td>\n",
       "    </tr>\n",
       "    <tr>\n",
       "      <th>1990-01-09</th>\n",
       "      <td>0.129496</td>\n",
       "    </tr>\n",
       "    <tr>\n",
       "      <th>1990-01-10</th>\n",
       "      <td>-0.632275</td>\n",
       "    </tr>\n",
       "    <tr>\n",
       "      <th>...</th>\n",
       "      <td>...</td>\n",
       "    </tr>\n",
       "    <tr>\n",
       "      <th>2017-12-22</th>\n",
       "      <td>0.084621</td>\n",
       "    </tr>\n",
       "    <tr>\n",
       "      <th>2017-12-26</th>\n",
       "      <td>0.118370</td>\n",
       "    </tr>\n",
       "    <tr>\n",
       "      <th>2017-12-27</th>\n",
       "      <td>0.118230</td>\n",
       "    </tr>\n",
       "    <tr>\n",
       "      <th>2017-12-28</th>\n",
       "      <td>-0.151830</td>\n",
       "    </tr>\n",
       "    <tr>\n",
       "      <th>2017-12-29</th>\n",
       "      <td>0.180221</td>\n",
       "    </tr>\n",
       "  </tbody>\n",
       "</table>\n",
       "<p>7062 rows × 1 columns</p>\n",
       "</div>"
      ],
      "text/plain": [
       "            Lagged_Return\n",
       "Date                     \n",
       "1990-01-04       0.584197\n",
       "1990-01-05       1.756933\n",
       "1990-01-08      -0.827626\n",
       "1990-01-09       0.129496\n",
       "1990-01-10      -0.632275\n",
       "...                   ...\n",
       "2017-12-22       0.084621\n",
       "2017-12-26       0.118370\n",
       "2017-12-27       0.118230\n",
       "2017-12-28      -0.151830\n",
       "2017-12-29       0.180221\n",
       "\n",
       "[7062 rows x 1 columns]"
      ]
     },
     "execution_count": 28,
     "metadata": {},
     "output_type": "execute_result"
    }
   ],
   "source": [
    "X_train"
   ]
  },
  {
   "cell_type": "markdown",
   "metadata": {},
   "source": [
    "# Linear Regression Model"
   ]
  },
  {
   "cell_type": "code",
   "execution_count": 29,
   "metadata": {},
   "outputs": [],
   "source": [
    "# Create a Linear Regression model and fit it to the training data\n",
    "from sklearn.linear_model import LinearRegression\n",
    "\n",
    "X = X_train.Lagged_Return.values.reshape(-1, 1)\n",
    "Y = train[\"Returns\"]\n",
    "\n",
    "# Fit a SKLearn linear regression using just the training set (X_train, Y_train):\n",
    "\n",
    "model = LinearRegression()"
   ]
  },
  {
   "cell_type": "code",
   "execution_count": 30,
   "metadata": {},
   "outputs": [
    {
     "data": {
      "text/plain": [
       "LinearRegression()"
      ]
     },
     "execution_count": 30,
     "metadata": {},
     "output_type": "execute_result"
    }
   ],
   "source": [
    "# Fit a SKLearn linear regression using just the training set (X_train, Y_train):\n",
    "\n",
    "model.fit(X_train, y_train)"
   ]
  },
  {
   "cell_type": "markdown",
   "metadata": {},
   "source": [
    "# Make predictions using the Testing Data\n",
    "\n",
    "Note: We want to evaluate the model using data that it has never seen before, in this case: X_test."
   ]
  },
  {
   "cell_type": "code",
   "execution_count": 34,
   "metadata": {},
   "outputs": [
    {
     "data": {
      "text/plain": [
       "array([ 3.81487856e-03,  3.04552923e-03,  8.75886643e-03,  8.46722705e-03,\n",
       "        9.96422847e-03,  5.54507405e-03,  2.07350579e-03, -6.13941602e-03,\n",
       "        3.72827035e-03,  6.02753682e-03, -9.69420826e-04,  1.39716758e-02,\n",
       "        5.26261632e-03,  2.44191635e-03,  1.00698798e-02, -2.03980189e-04,\n",
       "       -6.12603448e-03,  9.90095892e-03, -1.04195295e-03,  8.85239423e-03,\n",
       "        4.58784211e-03,  9.48891960e-03,  9.32567920e-03,  1.43791356e-02,\n",
       "        7.70010848e-04,  2.83229073e-03,  6.89934081e-03,  1.15915331e-03,\n",
       "        3.20292363e-03,  7.35495457e-03, -3.35964887e-03,  1.51559282e-04,\n",
       "       -1.80127111e-03,  6.82381188e-03,  1.57890706e-02,  1.12677326e-02,\n",
       "       -5.00112268e-03,  7.22225932e-03,  8.01600611e-03,  1.11955991e-02,\n",
       "       -1.20485968e-03,  2.35541558e-03, -7.88644420e-04,  1.28707271e-02,\n",
       "        6.37309179e-03,  4.62515299e-03,  8.11823975e-03,  1.15059323e-02,\n",
       "        2.23588159e-03,  8.68890086e-03,  2.80746187e-03,  6.31681658e-03,\n",
       "        4.68024509e-03,  6.48572621e-03,  3.04735041e-03,  3.05670135e-03,\n",
       "        1.27287495e-03, -1.77203429e-03,  1.04113647e-02,  9.53880202e-03,\n",
       "        1.98083514e-02,  1.91156329e-03,  5.78796086e-04,  1.35900712e-02,\n",
       "        7.66898573e-03,  1.34827756e-02,  4.08916113e-04,  5.69540721e-03,\n",
       "        1.00445269e-02,  3.99329174e-03,  9.14539894e-03,  8.30271779e-03,\n",
       "        2.90750532e-03,  5.63736438e-03,  8.80891480e-03,  7.73671367e-03,\n",
       "        8.08003202e-03,  1.64551788e-02,  6.66400939e-03,  1.28200249e-02,\n",
       "        6.49341826e-03,  3.13487495e-03,  8.74454191e-03,  1.12973028e-02,\n",
       "        5.97132995e-03,  9.70913655e-04,  5.33606113e-03,  5.56802053e-03,\n",
       "        6.08840442e-03,  1.27899549e-02,  3.18108418e-03,  5.50835303e-03,\n",
       "        9.91144113e-03,  1.30635653e-02,  5.20929049e-03,  1.11142049e-02,\n",
       "        5.44051356e-03,  1.04879319e-02,  5.26120673e-03, -2.68539218e-03,\n",
       "       -1.15209657e-03,  7.42153998e-03, -5.05705771e-03,  1.22349176e-02,\n",
       "        4.00886808e-03,  1.49085811e-02,  8.52886878e-03,  6.37871125e-03,\n",
       "        1.03986629e-02,  1.87564986e-03,  3.93207956e-03,  1.14937053e-02,\n",
       "        9.30021704e-03,  8.19604396e-03,  6.73226748e-03,  6.61507042e-03,\n",
       "        4.32387474e-03, -3.70770359e-03,  9.39983510e-03,  1.24998015e-03,\n",
       "        6.55203048e-03,  1.85166319e-03,  1.29658444e-02,  7.13458582e-03,\n",
       "        1.05700903e-02,  8.54217224e-03,  6.49688185e-03,  3.09814072e-03,\n",
       "        7.72312953e-03,  4.03897097e-03,  9.82440378e-03,  1.10086617e-02,\n",
       "        1.36203337e-02,  1.02345839e-02,  4.95446915e-03,  5.72852310e-03,\n",
       "        1.14908387e-02,  6.38306136e-03,  2.80047531e-03, -2.54542037e-03,\n",
       "        5.73169321e-03,  3.66665064e-03,  2.73082987e-03,  1.01351733e-02,\n",
       "        3.96603700e-03,  6.49780543e-03,  1.40223918e-02,  3.71667849e-03,\n",
       "        7.62194520e-03,  2.06264548e-03,  7.73619095e-03,  6.44002893e-03,\n",
       "        1.95378911e-03,  7.08588508e-03,  2.20258219e-03,  6.96605990e-03,\n",
       "        1.13664890e-02,  1.31951009e-04,  9.25202100e-03,  3.55862692e-03,\n",
       "        2.62697014e-03,  8.13256078e-03,  7.84332456e-03,  1.32993028e-02,\n",
       "        5.49555945e-03,  5.26005505e-03,  7.44173727e-03,  1.07477684e-02,\n",
       "        1.59037745e-04,  5.90931743e-03,  1.07991220e-02,  6.67730663e-03,\n",
       "       -1.14732403e-05,  8.44027295e-03,  7.61934772e-03,  9.86525476e-03,\n",
       "        2.82629236e-03,  1.25834717e-02,  7.57076752e-03,  5.43042263e-03,\n",
       "        3.52827694e-03,  5.13637590e-03,  8.45548851e-03,  6.91647951e-03,\n",
       "        7.86762026e-03,  8.34630627e-03,  5.30951315e-03,  1.20427694e-02,\n",
       "        7.76159276e-03,  1.01037583e-02,  3.49415412e-03,  1.24506921e-02,\n",
       "        1.97456246e-03,  5.18089388e-03, -7.70250251e-04,  6.56234322e-03,\n",
       "        2.02142099e-03,  3.71366760e-04,  6.67749124e-03,  5.19725976e-03,\n",
       "        9.04371978e-03,  9.28861134e-03,  3.58627157e-03,  1.00614971e-02,\n",
       "        8.34822797e-03,  3.10042206e-03,  5.90641276e-03,  8.04824176e-03,\n",
       "       -9.47606087e-04,  1.11765850e-02,  1.19731602e-02,  7.10097598e-03,\n",
       "        3.33108639e-03,  1.15760736e-02,  5.72401276e-03,  8.00295298e-03,\n",
       "        5.78348390e-03,  1.24485739e-02,  4.33158040e-03,  6.80689182e-03,\n",
       "        6.26428809e-03,  2.88576843e-03,  7.40681933e-03, -8.40737887e-04,\n",
       "        3.51230900e-03,  8.35184049e-03,  9.49209122e-03,  3.98507841e-03,\n",
       "        1.39239408e-02,  7.59046617e-03,  3.91021924e-03,  5.54141336e-03,\n",
       "        7.82919989e-03,  7.04796846e-03, -1.94115565e-03,  9.85634554e-03,\n",
       "        1.15709724e-03,  6.26375840e-03,  1.16458532e-02,  8.06733672e-03,\n",
       "        4.57816892e-03,  9.99167879e-03,  3.30775489e-03,  3.07493423e-03,\n",
       "       -6.15539768e-03,  4.72128679e-03, -5.04865765e-03,  8.19648349e-03,\n",
       "       -2.66181169e-03,  1.56950958e-02,  1.26873499e-03,  3.04598519e-03,\n",
       "       -8.51272599e-04,  1.62803865e-03, -8.09935409e-03,  1.38297002e-02,\n",
       "        7.17839951e-03,  6.72031368e-03,  2.70253356e-03,  7.92031753e-03,\n",
       "        7.00622331e-03,  3.33657208e-03,  9.92153262e-03,  9.53282689e-03,\n",
       "        9.88873776e-03,  1.13459376e-02,  1.50142453e-03,  9.32516970e-03,\n",
       "        7.42134067e-03,  5.73966495e-03,  3.53542612e-03,  5.56743170e-03,\n",
       "        2.96538954e-03,  5.97333724e-03,  1.24294441e-02,  1.02047966e-02,\n",
       "        6.84418608e-03,  6.26219814e-03,  5.15563012e-03,  5.73849531e-03,\n",
       "        1.21942038e-02,  7.37371010e-03,  1.09466674e-02,  1.61643095e-03,\n",
       "        5.96971428e-03,  8.25316551e-03,  8.02247824e-03,  4.85242471e-03,\n",
       "        6.49739964e-03,  1.04893522e-02,  2.50845085e-04,  1.13619320e-02,\n",
       "        9.91461412e-03,  1.20554244e-02,  3.76720650e-03,  7.74568347e-03,\n",
       "        5.43197913e-03,  3.83035742e-03,  1.88179100e-03,  7.79609434e-03,\n",
       "        6.73546845e-03,  3.95869384e-03,  1.31614019e-02,  3.88930966e-03,\n",
       "        6.67772879e-03, -2.44616350e-03, -1.25969430e-03,  7.77965264e-03,\n",
       "       -4.58842248e-04,  6.26204214e-03,  1.06183880e-02,  5.03742234e-03,\n",
       "        8.30142686e-03,  8.65584512e-03,  1.17627183e-02,  6.32160274e-03,\n",
       "        7.02754590e-03,  7.73466262e-03,  7.14729024e-03,  4.49265656e-03,\n",
       "        2.31553175e-03,  5.14734727e-03,  1.31237671e-02,  1.00997350e-02,\n",
       "        5.61151952e-03,  6.14474964e-03,  6.97366221e-03,  5.67070417e-03,\n",
       "        5.90785571e-03,  5.31589316e-03,  1.12321407e-02, -9.62929063e-05,\n",
       "        6.20396074e-03,  7.38568017e-03,  2.77315838e-03,  8.50345401e-03,\n",
       "        5.14035411e-03,  2.42603040e-03,  4.43933083e-03,  9.67208423e-05,\n",
       "        4.97781644e-03,  2.17984511e-03,  8.41177789e-03,  7.31145323e-04,\n",
       "        9.10011397e-03,  5.50698402e-03,  9.45438642e-03,  8.76570413e-03,\n",
       "        5.03671745e-03,  1.25001572e-02,  3.03709489e-03, -1.33884638e-03,\n",
       "        5.15889559e-03,  7.48000741e-03,  5.91360140e-03,  7.48119280e-03,\n",
       "       -5.13058601e-03,  2.81073463e-03,  6.49060678e-03,  9.87402014e-03,\n",
       "        6.66430840e-03,  3.55581428e-03,  8.78809772e-03,  6.95230941e-03,\n",
       "        6.37677832e-03,  4.70596475e-03,  8.62039331e-03,  6.49228707e-03,\n",
       "       -2.39049620e-03,  1.62651633e-03, -4.04859638e-04,  7.78933144e-03,\n",
       "        5.35338577e-03,  4.50417164e-03,  1.30488256e-02,  5.74847314e-03,\n",
       "        6.54543006e-03,  1.30924725e-02, -4.18894554e-05,  6.31789370e-03,\n",
       "        1.36673700e-02,  7.81047885e-03,  7.58306164e-03,  1.94620614e-03,\n",
       "        6.83434390e-03, -4.62717985e-05,  7.05905399e-03,  1.05969751e-02,\n",
       "        3.79782197e-03,  4.88004167e-04,  9.21720616e-03,  7.11620705e-03,\n",
       "        1.02555326e-02,  5.80298086e-03,  1.17010388e-02,  5.80104743e-03,\n",
       "        7.12455634e-03,  4.36117278e-03,  8.15853273e-03, -7.67604081e-03,\n",
       "       -1.69827888e-03,  9.55885588e-04,  1.12016252e-02,  2.19821680e-03,\n",
       "        4.96740659e-03,  2.33018593e-03,  3.18332462e-03,  2.03160774e-02,\n",
       "       -1.71023947e-03,  8.61677729e-03,  8.05987203e-03,  9.69692610e-03,\n",
       "        3.32123744e-03,  8.96614134e-03,  4.62145751e-03, -4.96995406e-03,\n",
       "        1.51952560e-02,  2.20501231e-03,  8.78511333e-03,  1.25600603e-02,\n",
       "        2.41261774e-03,  4.11767906e-03,  9.97441813e-03,  1.20209796e-02,\n",
       "        5.52251875e-03,  8.98473194e-03,  8.93513002e-03,  9.68376722e-03,\n",
       "        1.02103034e-02,  6.20396074e-03,  4.36555729e-03,  1.90264557e-03,\n",
       "        7.74619036e-03,  2.65739634e-03,  3.58139337e-03,  4.15657064e-03,\n",
       "        2.00353125e-03,  1.40628854e-02,  6.20396074e-03,  6.83052483e-03,\n",
       "        8.76869001e-03,  2.71891472e-03,  1.07890117e-03,  3.48371789e-03,\n",
       "        5.97785277e-03,  1.06121281e-02,  4.38794690e-03,  1.05662875e-02,\n",
       "        1.01291757e-02,  1.21992641e-02,  4.59614020e-03])"
      ]
     },
     "execution_count": 34,
     "metadata": {},
     "output_type": "execute_result"
    }
   ],
   "source": [
    "# Make a prediction of \"y\" values using just the test dataset\n",
    "X2 = X_test.Lagged_Return.values.reshape(-1, 1)\n",
    "predicted_y_values = model.predict(X2)\n",
    "predicted_y_values"
   ]
  },
  {
   "cell_type": "code",
   "execution_count": 35,
   "metadata": {},
   "outputs": [
    {
     "data": {
      "text/html": [
       "<div>\n",
       "<style scoped>\n",
       "    .dataframe tbody tr th:only-of-type {\n",
       "        vertical-align: middle;\n",
       "    }\n",
       "\n",
       "    .dataframe tbody tr th {\n",
       "        vertical-align: top;\n",
       "    }\n",
       "\n",
       "    .dataframe thead th {\n",
       "        text-align: right;\n",
       "    }\n",
       "</style>\n",
       "<table border=\"1\" class=\"dataframe\">\n",
       "  <thead>\n",
       "    <tr style=\"text-align: right;\">\n",
       "      <th></th>\n",
       "      <th>Returns</th>\n",
       "      <th>Predicted Return</th>\n",
       "    </tr>\n",
       "    <tr>\n",
       "      <th>Date</th>\n",
       "      <th></th>\n",
       "      <th></th>\n",
       "    </tr>\n",
       "  </thead>\n",
       "  <tbody>\n",
       "    <tr>\n",
       "      <th>2018-01-02</th>\n",
       "      <td>0.297285</td>\n",
       "      <td>0.003815</td>\n",
       "    </tr>\n",
       "    <tr>\n",
       "      <th>2018-01-03</th>\n",
       "      <td>-0.240479</td>\n",
       "      <td>0.003046</td>\n",
       "    </tr>\n",
       "    <tr>\n",
       "      <th>2018-01-04</th>\n",
       "      <td>-0.213028</td>\n",
       "      <td>0.008759</td>\n",
       "    </tr>\n",
       "    <tr>\n",
       "      <th>2018-01-05</th>\n",
       "      <td>-0.353933</td>\n",
       "      <td>0.008467</td>\n",
       "    </tr>\n",
       "    <tr>\n",
       "      <th>2018-01-08</th>\n",
       "      <td>0.062017</td>\n",
       "      <td>0.009964</td>\n",
       "    </tr>\n",
       "  </tbody>\n",
       "</table>\n",
       "</div>"
      ],
      "text/plain": [
       "             Returns  Predicted Return\n",
       "Date                                  \n",
       "2018-01-02  0.297285          0.003815\n",
       "2018-01-03 -0.240479          0.003046\n",
       "2018-01-04 -0.213028          0.008759\n",
       "2018-01-05 -0.353933          0.008467\n",
       "2018-01-08  0.062017          0.009964"
      ]
     },
     "execution_count": 35,
     "metadata": {},
     "output_type": "execute_result"
    }
   ],
   "source": [
    "# Assemble actual y data (Y_test) with predicted y data (from just above) into two columns in a dataframe:\n",
    "Results = y_test.to_frame()\n",
    "Results[\"Predicted Return\"] = predicted_y_values\n",
    "Results.head()"
   ]
  },
  {
   "cell_type": "code",
   "execution_count": 36,
   "metadata": {},
   "outputs": [
    {
     "data": {
      "text/plain": [
       "array([<matplotlib.axes._subplots.AxesSubplot object at 0x000001BDEEE2A288>,\n",
       "       <matplotlib.axes._subplots.AxesSubplot object at 0x000001BDF0E80608>],\n",
       "      dtype=object)"
      ]
     },
     "execution_count": 36,
     "metadata": {},
     "output_type": "execute_result"
    },
    {
     "data": {
      "image/png": "[encoded data removed]",
      "text/plain": [
       "<Figure size 432x288 with 2 Axes>"
      ]
     },
     "metadata": {
      "needs_background": "light"
     },
     "output_type": "display_data"
    }
   ],
   "source": [
    "# Plot the first 20 predictions vs the true values\n",
    "Results[:20].plot(subplots=True)"
   ]
  },
  {
   "cell_type": "markdown",
   "metadata": {},
   "source": [
    "# Out-of-Sample Performance\n",
    "\n",
    "Evaluate the model using \"out-of-sample\" data (X_test and y_test)"
   ]
  },
  {
   "cell_type": "code",
   "execution_count": 33,
   "metadata": {},
   "outputs": [
    {
     "name": "stdout",
     "output_type": "stream",
     "text": [
      "0.4983495489863568\n"
     ]
    },
    {
     "data": {
      "text/plain": [
       "0.7059387714146014"
      ]
     },
     "execution_count": 33,
     "metadata": {},
     "output_type": "execute_result"
    }
   ],
   "source": [
    "from sklearn.metrics import mean_squared_error\n",
    "# Calculate the mean_squared_error (MSE) on actual versus predicted test \"y\" \n",
    "# Mean Squared Error\n",
    "mse = mean_squared_error(y_train, predicted_y_values)\n",
    "print(mse)\n",
    "\n",
    "# Using that mean-squared-error, calculate the root-mean-squared error (RMSE):\n",
    "rmse = np.sqrt(mse)\n",
    "rmse"
   ]
  },
  {
   "cell_type": "markdown",
   "metadata": {},
   "source": [
    "# In-Sample Performance\n",
    "\n",
    "Evaluate the model using in-sample data (X_train and y_train)"
   ]
  },
  {
   "cell_type": "code",
   "execution_count": null,
   "metadata": {},
   "outputs": [],
   "source": [
    "# Construct a dataframe using just the \"y\" training data:\n",
    "# YOUR CODE HERE!\n",
    "\n",
    "# Add a column of \"in-sample\" predictions to that dataframe:  \n",
    "# YOUR CODE HERE!\n",
    "\n",
    "# Calculate in-sample mean_squared_error (for comparison to out-of-sample)\n",
    "# YOUR CODE HERE!\n",
    "\n",
    "# Calculate in-sample root mean_squared_error (for comparison to out-of-sample)\n",
    "# YOUR CODE HERE!"
   ]
  },
  {
   "cell_type": "markdown",
   "metadata": {},
   "source": [
    "# Conclusions"
   ]
  },
  {
   "cell_type": "markdown",
   "metadata": {},
   "source": [
    "YOUR CONCLUSIONS HERE!"
   ]
  },
  {
   "cell_type": "markdown",
   "metadata": {},
   "source": []
  }
 ],
 "metadata": {
  "file_extension": ".py",
  "kernelspec": {
   "display_name": "Python [conda env:TSMLPyViz] *",
   "language": "python",
   "name": "conda-env-TSMLPyViz-py"
  },
  "language_info": {
   "codemirror_mode": {
    "name": "ipython",
    "version": 3
   },
   "file_extension": ".py",
   "mimetype": "text/x-python",
   "name": "python",
   "nbconvert_exporter": "python",
   "pygments_lexer": "ipython3",
   "version": "3.7.10"
  },
  "mimetype": "text/x-python",
  "name": "python",
  "npconvert_exporter": "python",
  "pygments_lexer": "ipython3",
  "version": 3
 },
 "nbformat": 4,
 "nbformat_minor": 4
}
