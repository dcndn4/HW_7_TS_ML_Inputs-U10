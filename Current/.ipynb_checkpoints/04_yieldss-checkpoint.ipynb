{
 "cells": [
  {
   "cell_type": "code",
   "execution_count": 14,
   "metadata": {},
   "outputs": [
    {
     "name": "stdout",
     "output_type": "stream",
     "text": [
      "01-Ins_Stationarity\n"
     ]
    }
   ],
   "source": [
    "# 7:30 PM\n",
    "# 7:45 PM\n",
    "# 7:55 PM\n",
    "import os\n",
    "print(os.path.dirname(os.getcwd()).split('\\\\')[-1])"
   ]
  },
  {
   "cell_type": "markdown",
   "metadata": {},
   "source": [
    "<font color='red'>Comment</font>\n",
    "\n",
    "I can't figure out what these yields are...crops...I think? Probably not returns, given the plots. It does make interpeting what's below a bit tricky..."
   ]
  },
  {
   "cell_type": "code",
   "execution_count": 15,
   "metadata": {},
   "outputs": [],
   "source": [
    "import pandas as pd\n",
    "%matplotlib inline"
   ]
  },
  {
   "cell_type": "code",
   "execution_count": 16,
   "metadata": {},
   "outputs": [],
   "source": [
    "from pathlib import Path\n",
    "csvpath=\"C:/Users/CS_Knit_tinK_SC/Documents/My Data Sources/111121/04_yield.csv\"\n",
    "#csvpath = Path('../Resources/yield.csv')\n",
    "data = pd.read_csv(csvpath, parse_dates=True, index_col='Date')"
   ]
  },
  {
   "cell_type": "code",
   "execution_count": 17,
   "metadata": {},
   "outputs": [
    {
     "data": {
      "text/html": [
       "<div>\n",
       "<style scoped>\n",
       "    .dataframe tbody tr th:only-of-type {\n",
       "        vertical-align: middle;\n",
       "    }\n",
       "\n",
       "    .dataframe tbody tr th {\n",
       "        vertical-align: top;\n",
       "    }\n",
       "\n",
       "    .dataframe thead th {\n",
       "        text-align: right;\n",
       "    }\n",
       "</style>\n",
       "<table border=\"1\" class=\"dataframe\">\n",
       "  <thead>\n",
       "    <tr style=\"text-align: right;\">\n",
       "      <th></th>\n",
       "      <th>Yield</th>\n",
       "    </tr>\n",
       "    <tr>\n",
       "      <th>Date</th>\n",
       "      <th></th>\n",
       "    </tr>\n",
       "  </thead>\n",
       "  <tbody>\n",
       "    <tr>\n",
       "      <th>1971-08-16</th>\n",
       "      <td>0.5632</td>\n",
       "    </tr>\n",
       "    <tr>\n",
       "      <th>1971-08-17</th>\n",
       "      <td>0.7108</td>\n",
       "    </tr>\n",
       "    <tr>\n",
       "      <th>1971-08-18</th>\n",
       "      <td>1.0657</td>\n",
       "    </tr>\n",
       "    <tr>\n",
       "      <th>1971-08-19</th>\n",
       "      <td>1.1335</td>\n",
       "    </tr>\n",
       "    <tr>\n",
       "      <th>1971-08-20</th>\n",
       "      <td>1.0313</td>\n",
       "    </tr>\n",
       "  </tbody>\n",
       "</table>\n",
       "</div>"
      ],
      "text/plain": [
       "             Yield\n",
       "Date              \n",
       "1971-08-16  0.5632\n",
       "1971-08-17  0.7108\n",
       "1971-08-18  1.0657\n",
       "1971-08-19  1.1335\n",
       "1971-08-20  1.0313"
      ]
     },
     "execution_count": 17,
     "metadata": {},
     "output_type": "execute_result"
    }
   ],
   "source": [
    "data.head()"
   ]
  },
  {
   "cell_type": "markdown",
   "metadata": {},
   "source": [
    "<font color='red'>Comment</font>\n",
    "\n",
    "Stationary??? There doesn't seem to be an upward or downward trend, suggesting stationarity."
   ]
  },
  {
   "cell_type": "code",
   "execution_count": 18,
   "metadata": {},
   "outputs": [
    {
     "data": {
      "text/plain": [
       "<matplotlib.axes._subplots.AxesSubplot at 0x1e4b4c612c8>"
      ]
     },
     "execution_count": 18,
     "metadata": {},
     "output_type": "execute_result"
    },
    {
     "data": {
      "image/png": "[encoded data removed]",
      "text/plain": [
       "<Figure size 432x288 with 1 Axes>"
      ]
     },
     "metadata": {
      "needs_background": "light"
     },
     "output_type": "display_data"
    }
   ],
   "source": [
    "data.plot()"
   ]
  },
  {
   "cell_type": "code",
   "execution_count": 19,
   "metadata": {},
   "outputs": [],
   "source": [
    "# Test to see if the data is stationary or non-stationary.\n",
    "# Convert to stationary if needed.\n",
    "from statsmodels.tsa.stattools import adfuller\n",
    "#adfuller(data.Yield)\n",
    "\n",
    "result = adfuller(data.Yield)"
   ]
  },
  {
   "cell_type": "code",
   "execution_count": 20,
   "metadata": {},
   "outputs": [
    {
     "name": "stdout",
     "output_type": "stream",
     "text": [
      "ADF Statistic: -3.393721\n",
      "p-value:        0.011175 \n",
      "Lags used:      31\n",
      "Critical Values:\n",
      "('1%', -3.430897660224935)\n",
      "('5%', -2.861782037578331)\n",
      "('10%', -2.566898831549907)\n"
     ]
    }
   ],
   "source": [
    "# Access the contents of the results:\n",
    "print('ADF Statistic: %f' % result[0])\n",
    "print('p-value:        %f ' % result[1])\n",
    "print('Lags used:      %d' % result[2])\n",
    "print('Critical Values:')\n",
    "for key, value in result[4].items():\n",
    "    print((key, value))"
   ]
  },
  {
   "cell_type": "markdown",
   "metadata": {},
   "source": [
    "<font color='red'>Comment</font>\n",
    "\n",
    "Interpret this please!"
   ]
  },
  {
   "cell_type": "markdown",
   "metadata": {},
   "source": [
    "# Autocorrelation and Partial Autocorrelation Analysis\n",
    "\n",
    "Use the autocorrelation and partial autocorrelation data to get a sense of how many lags to use in the ARMA model."
   ]
  },
  {
   "cell_type": "code",
   "execution_count": 21,
   "metadata": {},
   "outputs": [
    {
     "data": {
      "image/png": "[encoded data removed]",
      "text/plain": [
       "<Figure size 432x288 with 1 Axes>"
      ]
     },
     "execution_count": 21,
     "metadata": {},
     "output_type": "execute_result"
    },
    {
     "data": {
      "image/png": "[encoded data removed]",
      "text/plain": [
       "<Figure size 432x288 with 1 Axes>"
      ]
     },
     "metadata": {
      "needs_background": "light"
     },
     "output_type": "display_data"
    }
   ],
   "source": [
    "# Plot the autocorrelation of the yield data\n",
    "from statsmodels.graphics.tsaplots import plot_acf, plot_pacf\n",
    "plot_acf(data, lags=40)"
   ]
  },
  {
   "cell_type": "markdown",
   "metadata": {},
   "source": [
    "<font color='red'>Comment</font>\n",
    "\n",
    "What does the below mean for setting the ARMA order?"
   ]
  },
  {
   "cell_type": "code",
   "execution_count": 22,
   "metadata": {},
   "outputs": [
    {
     "data": {
      "image/png": "[encoded data removed]",
      "text/plain": [
       "<Figure size 432x288 with 1 Axes>"
      ]
     },
     "execution_count": 22,
     "metadata": {},
     "output_type": "execute_result"
    },
    {
     "data": {
      "image/png": "[encoded data removed]",
      "text/plain": [
       "<Figure size 432x288 with 1 Axes>"
      ]
     },
     "metadata": {
      "needs_background": "light"
     },
     "output_type": "display_data"
    }
   ],
   "source": [
    "# Plot the partial autocorrelation of the yield data\n",
    "plot_pacf(data, zero=False, lags=40)"
   ]
  },
  {
   "cell_type": "markdown",
   "metadata": {},
   "source": [
    "How many lags should be used in the ARMA model?\n",
    "\n",
    "The autocorrelation plot shows that all lags could potentially be useful. \n",
    "\n",
    "However, the partial autocorrelation plot shows most of the trend is in the first two lags."
   ]
  },
  {
   "cell_type": "markdown",
   "metadata": {},
   "source": [
    "# ARMA Model\n",
    "\n",
    "Create an ARMA model and fit it to the data. Output the summary table and take note of the p-values of the lags.\n",
    "\n",
    "Plot the Forecast for the next 5 days of yield changes"
   ]
  },
  {
   "cell_type": "code",
   "execution_count": 12,
   "metadata": {},
   "outputs": [
    {
     "name": "stderr",
     "output_type": "stream",
     "text": [
      "C:\\Users\\CS_Knit_tinK_SC\\anaconda3\\envs\\pyvizenv\\lib\\site-packages\\statsmodels\\tsa\\arima_model.py:472: FutureWarning: \n",
      "statsmodels.tsa.arima_model.ARMA and statsmodels.tsa.arima_model.ARIMA have\n",
      "been deprecated in favor of statsmodels.tsa.arima.model.ARIMA (note the .\n",
      "between arima and model) and\n",
      "statsmodels.tsa.SARIMAX. These will be removed after the 0.12 release.\n",
      "\n",
      "statsmodels.tsa.arima.model.ARIMA makes use of the statespace framework and\n",
      "is both well tested and maintained.\n",
      "\n",
      "To silence this warning and continue using ARMA and ARIMA until they are\n",
      "removed, use:\n",
      "\n",
      "import warnings\n",
      "warnings.filterwarnings('ignore', 'statsmodels.tsa.arima_model.ARMA',\n",
      "                        FutureWarning)\n",
      "warnings.filterwarnings('ignore', 'statsmodels.tsa.arima_model.ARIMA',\n",
      "                        FutureWarning)\n",
      "\n",
      "  warnings.warn(ARIMA_DEPRECATION_WARN, FutureWarning)\n"
     ]
    },
    {
     "data": {
      "text/html": [
       "<table class=\"simpletable\">\n",
       "<caption>ARMA Model Results</caption>\n",
       "<tr>\n",
       "  <th>Dep. Variable:</th>         <td>y</td>        <th>  No. Observations:  </th>    <td>11975</td>  \n",
       "</tr>\n",
       "<tr>\n",
       "  <th>Model:</th>            <td>ARMA(2, 2)</td>    <th>  Log Likelihood     </th>  <td>17294.672</td>\n",
       "</tr>\n",
       "<tr>\n",
       "  <th>Method:</th>             <td>css-mle</td>     <th>  S.D. of innovations</th>    <td>0.057</td>  \n",
       "</tr>\n",
       "<tr>\n",
       "  <th>Date:</th>          <td>Thu, 11 Nov 2021</td> <th>  AIC                </th> <td>-34577.345</td>\n",
       "</tr>\n",
       "<tr>\n",
       "  <th>Time:</th>              <td>18:00:23</td>     <th>  BIC                </th> <td>-34533.001</td>\n",
       "</tr>\n",
       "<tr>\n",
       "  <th>Sample:</th>                <td>0</td>        <th>  HQIC               </th> <td>-34562.468</td>\n",
       "</tr>\n",
       "<tr>\n",
       "  <th></th>                       <td> </td>        <th>                     </th>      <td> </td>    \n",
       "</tr>\n",
       "</table>\n",
       "<table class=\"simpletable\">\n",
       "<tr>\n",
       "     <td></td>        <th>coef</th>     <th>std err</th>      <th>z</th>      <th>P>|z|</th>  <th>[0.025</th>    <th>0.975]</th>  \n",
       "</tr>\n",
       "<tr>\n",
       "  <th>const</th>   <td>    1.1820</td> <td>    0.319</td> <td>    3.710</td> <td> 0.000</td> <td>    0.558</td> <td>    1.806</td>\n",
       "</tr>\n",
       "<tr>\n",
       "  <th>ar.L1.y</th> <td>    1.9151</td> <td>    0.004</td> <td>  482.272</td> <td> 0.000</td> <td>    1.907</td> <td>    1.923</td>\n",
       "</tr>\n",
       "<tr>\n",
       "  <th>ar.L2.y</th> <td>   -0.9153</td> <td>    0.004</td> <td> -230.872</td> <td> 0.000</td> <td>   -0.923</td> <td>   -0.908</td>\n",
       "</tr>\n",
       "<tr>\n",
       "  <th>ma.L1.y</th> <td>   -0.8032</td> <td>    0.010</td> <td>  -81.209</td> <td> 0.000</td> <td>   -0.823</td> <td>   -0.784</td>\n",
       "</tr>\n",
       "<tr>\n",
       "  <th>ma.L2.y</th> <td>   -0.0695</td> <td>    0.009</td> <td>   -7.674</td> <td> 0.000</td> <td>   -0.087</td> <td>   -0.052</td>\n",
       "</tr>\n",
       "</table>\n",
       "<table class=\"simpletable\">\n",
       "<caption>Roots</caption>\n",
       "<tr>\n",
       "    <td></td>   <th>            Real</th>  <th>         Imaginary</th> <th>         Modulus</th>  <th>        Frequency</th>\n",
       "</tr>\n",
       "<tr>\n",
       "  <th>AR.1</th> <td>           1.0025</td> <td>          +0.0000j</td> <td>           1.0025</td> <td>           0.0000</td>\n",
       "</tr>\n",
       "<tr>\n",
       "  <th>AR.2</th> <td>           1.0899</td> <td>          +0.0000j</td> <td>           1.0899</td> <td>           0.0000</td>\n",
       "</tr>\n",
       "<tr>\n",
       "  <th>MA.1</th> <td>           1.1338</td> <td>          +0.0000j</td> <td>           1.1338</td> <td>           0.0000</td>\n",
       "</tr>\n",
       "<tr>\n",
       "  <th>MA.2</th> <td>         -12.6982</td> <td>          +0.0000j</td> <td>          12.6982</td> <td>           0.5000</td>\n",
       "</tr>\n",
       "</table>"
      ],
      "text/plain": [
       "<class 'statsmodels.iolib.summary.Summary'>\n",
       "\"\"\"\n",
       "                              ARMA Model Results                              \n",
       "==============================================================================\n",
       "Dep. Variable:                      y   No. Observations:                11975\n",
       "Model:                     ARMA(2, 2)   Log Likelihood               17294.672\n",
       "Method:                       css-mle   S.D. of innovations              0.057\n",
       "Date:                Thu, 11 Nov 2021   AIC                         -34577.345\n",
       "Time:                        18:00:23   BIC                         -34533.001\n",
       "Sample:                             0   HQIC                        -34562.468\n",
       "                                                                              \n",
       "==============================================================================\n",
       "                 coef    std err          z      P>|z|      [0.025      0.975]\n",
       "------------------------------------------------------------------------------\n",
       "const          1.1820      0.319      3.710      0.000       0.558       1.806\n",
       "ar.L1.y        1.9151      0.004    482.272      0.000       1.907       1.923\n",
       "ar.L2.y       -0.9153      0.004   -230.872      0.000      -0.923      -0.908\n",
       "ma.L1.y       -0.8032      0.010    -81.209      0.000      -0.823      -0.784\n",
       "ma.L2.y       -0.0695      0.009     -7.674      0.000      -0.087      -0.052\n",
       "                                    Roots                                    \n",
       "=============================================================================\n",
       "                  Real          Imaginary           Modulus         Frequency\n",
       "-----------------------------------------------------------------------------\n",
       "AR.1            1.0025           +0.0000j            1.0025            0.0000\n",
       "AR.2            1.0899           +0.0000j            1.0899            0.0000\n",
       "MA.1            1.1338           +0.0000j            1.1338            0.0000\n",
       "MA.2          -12.6982           +0.0000j           12.6982            0.5000\n",
       "-----------------------------------------------------------------------------\n",
       "\"\"\""
      ]
     },
     "execution_count": 12,
     "metadata": {},
     "output_type": "execute_result"
    }
   ],
   "source": [
    "from statsmodels.tsa.arima_model import ARMA\n",
    "model = ARMA(data.values, order=(2, 2))\n",
    "result = model.fit()\n",
    "result.summary()"
   ]
  },
  {
   "cell_type": "markdown",
   "metadata": {},
   "source": [
    "<font color='red'>Comment</font>\n",
    "\n",
    "Low AIC and BIC indicate better accuracy.\n",
    "\n",
    "AIC (Akaike Information Criterion)\n",
    "\n",
    "BIC (Bayesian Information Criterion)\n",
    "\n",
    "Both estimate the model quality, weighing goodness of fit against the # of parameters. \n",
    "\n",
    "They favor the simplest model that best fits the data.\n",
    "\n",
    "How? They penalize models with many parameters. \n",
    "\n",
    "Models with many parameters may describe a particular dataset well, but lose their predictive power when used on new data.\n",
    "\n",
    "**Lower AIC and BIC values are generally better.**"
   ]
  },
  {
   "cell_type": "code",
   "execution_count": 13,
   "metadata": {},
   "outputs": [
    {
     "data": {
      "text/plain": [
       "<matplotlib.axes._subplots.AxesSubplot at 0x1e4b4401648>"
      ]
     },
     "execution_count": 13,
     "metadata": {},
     "output_type": "execute_result"
    },
    {
     "data": {
      "image/png": "[encoded data removed]",
      "text/plain": [
       "<Figure size 432x288 with 1 Axes>"
      ]
     },
     "metadata": {
      "needs_background": "light"
     },
     "output_type": "display_data"
    }
   ],
   "source": [
    "# Forecasting the future\n",
    "pd.DataFrame(result.forecast(steps=5)[0]).plot(title=\"Yield Forecast\")"
   ]
  },
  {
   "cell_type": "markdown",
   "metadata": {},
   "source": [
    "# Break"
   ]
  },
  {
   "cell_type": "code",
   "execution_count": null,
   "metadata": {},
   "outputs": [],
   "source": []
  }
 ],
 "metadata": {
  "kernelspec": {
   "display_name": "Python 3",
   "language": "python",
   "name": "python3"
  },
  "language_info": {
   "codemirror_mode": {
    "name": "ipython",
    "version": 3
   },
   "file_extension": ".py",
   "mimetype": "text/x-python",
   "name": "python",
   "nbconvert_exporter": "python",
   "pygments_lexer": "ipython3",
   "version": "3.7.10"
  }
 },
 "nbformat": 4,
 "nbformat_minor": 4
}
