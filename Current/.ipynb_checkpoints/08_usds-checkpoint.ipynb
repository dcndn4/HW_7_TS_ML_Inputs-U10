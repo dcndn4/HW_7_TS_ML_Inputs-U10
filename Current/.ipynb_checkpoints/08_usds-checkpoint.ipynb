{
 "cells": [
  {
   "cell_type": "code",
   "execution_count": 1,
   "metadata": {},
   "outputs": [
    {
     "name": "stdout",
     "output_type": "stream",
     "text": [
      "GitHub\n"
     ]
    }
   ],
   "source": [
    "# 9:05 PM\n",
    "# 9:15 PM\n",
    "# 9:25 PM\n",
    "import os\n",
    "print(os.path.dirname(os.getcwd()).split('\\\\')[-1])"
   ]
  },
  {
   "cell_type": "markdown",
   "metadata": {},
   "source": [
    "<font color='red'>Comment</font>\n",
    "\n",
    "Wikipedia:\n",
    "\n",
    "> Dukascopy Bank started in 1998 when a group of physicists headed by Andre Duka launched Dukascopy Trading Technologies Corp to engage in the research, development and implementation of complex financial systems via novel mathematical and econophysical techniques.\n",
    ">\n",
    "> Dukascopy Bank provides online and mobile trading services including foreign exchange, CFDs for stocks, metals, commodities, indices, cryptocurrencies and binary options. Dukascopy Bank also offers current account, e-banking, and credit card services.\n",
    "\n",
    "Note, the .csv indicates this is **hourly USD-EUR FOREX**. Currency markets don't sleep at night..."
   ]
  },
  {
   "cell_type": "code",
   "execution_count": 2,
   "metadata": {
    "tags": []
   },
   "outputs": [],
   "source": [
    "# Data source: https://www.dukascopy.com/swiss/english/marketwatch/historical/\n",
    "import numpy as np\n",
    "import pandas as pd\n",
    "%matplotlib inline"
   ]
  },
  {
   "cell_type": "code",
   "execution_count": 3,
   "metadata": {},
   "outputs": [
    {
     "data": {
      "text/html": [
       "<div>\n",
       "<style scoped>\n",
       "    .dataframe tbody tr th:only-of-type {\n",
       "        vertical-align: middle;\n",
       "    }\n",
       "\n",
       "    .dataframe tbody tr th {\n",
       "        vertical-align: top;\n",
       "    }\n",
       "\n",
       "    .dataframe thead th {\n",
       "        text-align: right;\n",
       "    }\n",
       "</style>\n",
       "<table border=\"1\" class=\"dataframe\">\n",
       "  <thead>\n",
       "    <tr style=\"text-align: right;\">\n",
       "      <th></th>\n",
       "      <th>Rate</th>\n",
       "    </tr>\n",
       "    <tr>\n",
       "      <th>Gmt time</th>\n",
       "      <th></th>\n",
       "    </tr>\n",
       "  </thead>\n",
       "  <tbody>\n",
       "    <tr>\n",
       "      <th>2014-01-01 00:00:00</th>\n",
       "      <td>1.374390</td>\n",
       "    </tr>\n",
       "    <tr>\n",
       "      <th>2014-01-01 01:00:00</th>\n",
       "      <td>1.374390</td>\n",
       "    </tr>\n",
       "    <tr>\n",
       "      <th>2014-01-01 02:00:00</th>\n",
       "      <td>1.374390</td>\n",
       "    </tr>\n",
       "    <tr>\n",
       "      <th>2014-01-01 03:00:00</th>\n",
       "      <td>1.374390</td>\n",
       "    </tr>\n",
       "    <tr>\n",
       "      <th>2014-01-01 04:00:00</th>\n",
       "      <td>1.374390</td>\n",
       "    </tr>\n",
       "    <tr>\n",
       "      <th>2014-01-01 05:00:00</th>\n",
       "      <td>1.374390</td>\n",
       "    </tr>\n",
       "    <tr>\n",
       "      <th>2014-01-01 06:00:00</th>\n",
       "      <td>1.374390</td>\n",
       "    </tr>\n",
       "    <tr>\n",
       "      <th>2014-01-01 07:00:00</th>\n",
       "      <td>1.374390</td>\n",
       "    </tr>\n",
       "    <tr>\n",
       "      <th>2014-01-01 08:00:00</th>\n",
       "      <td>1.374390</td>\n",
       "    </tr>\n",
       "    <tr>\n",
       "      <th>2014-01-01 09:00:00</th>\n",
       "      <td>1.374390</td>\n",
       "    </tr>\n",
       "    <tr>\n",
       "      <th>2014-01-01 10:00:00</th>\n",
       "      <td>1.374390</td>\n",
       "    </tr>\n",
       "    <tr>\n",
       "      <th>2014-01-01 11:00:00</th>\n",
       "      <td>1.374390</td>\n",
       "    </tr>\n",
       "    <tr>\n",
       "      <th>2014-01-01 12:00:00</th>\n",
       "      <td>1.374390</td>\n",
       "    </tr>\n",
       "    <tr>\n",
       "      <th>2014-01-01 13:00:00</th>\n",
       "      <td>1.374390</td>\n",
       "    </tr>\n",
       "    <tr>\n",
       "      <th>2014-01-01 14:00:00</th>\n",
       "      <td>1.374390</td>\n",
       "    </tr>\n",
       "    <tr>\n",
       "      <th>2014-01-01 15:00:00</th>\n",
       "      <td>1.374390</td>\n",
       "    </tr>\n",
       "    <tr>\n",
       "      <th>2014-01-01 16:00:00</th>\n",
       "      <td>1.374390</td>\n",
       "    </tr>\n",
       "    <tr>\n",
       "      <th>2014-01-01 17:00:00</th>\n",
       "      <td>1.374390</td>\n",
       "    </tr>\n",
       "    <tr>\n",
       "      <th>2014-01-01 18:00:00</th>\n",
       "      <td>1.374390</td>\n",
       "    </tr>\n",
       "    <tr>\n",
       "      <th>2014-01-01 19:00:00</th>\n",
       "      <td>1.374390</td>\n",
       "    </tr>\n",
       "    <tr>\n",
       "      <th>2014-01-01 20:00:00</th>\n",
       "      <td>1.374390</td>\n",
       "    </tr>\n",
       "    <tr>\n",
       "      <th>2014-01-01 21:00:00</th>\n",
       "      <td>1.374390</td>\n",
       "    </tr>\n",
       "    <tr>\n",
       "      <th>2014-01-01 22:00:00</th>\n",
       "      <td>1.376180</td>\n",
       "    </tr>\n",
       "    <tr>\n",
       "      <th>2014-01-01 23:00:00</th>\n",
       "      <td>1.376600</td>\n",
       "    </tr>\n",
       "    <tr>\n",
       "      <th>2014-02-01 00:00:00</th>\n",
       "      <td>1.375930</td>\n",
       "    </tr>\n",
       "    <tr>\n",
       "      <th>2014-02-01 01:00:00</th>\n",
       "      <td>1.376365</td>\n",
       "    </tr>\n",
       "    <tr>\n",
       "      <th>2014-02-01 02:00:00</th>\n",
       "      <td>1.376635</td>\n",
       "    </tr>\n",
       "    <tr>\n",
       "      <th>2014-02-01 03:00:00</th>\n",
       "      <td>1.376620</td>\n",
       "    </tr>\n",
       "    <tr>\n",
       "      <th>2014-02-01 04:00:00</th>\n",
       "      <td>1.374620</td>\n",
       "    </tr>\n",
       "    <tr>\n",
       "      <th>2014-02-01 05:00:00</th>\n",
       "      <td>1.375745</td>\n",
       "    </tr>\n",
       "    <tr>\n",
       "      <th>2014-02-01 06:00:00</th>\n",
       "      <td>1.375080</td>\n",
       "    </tr>\n",
       "    <tr>\n",
       "      <th>2014-02-01 07:00:00</th>\n",
       "      <td>1.373215</td>\n",
       "    </tr>\n",
       "    <tr>\n",
       "      <th>2014-02-01 08:00:00</th>\n",
       "      <td>1.372725</td>\n",
       "    </tr>\n",
       "    <tr>\n",
       "      <th>2014-02-01 09:00:00</th>\n",
       "      <td>1.372950</td>\n",
       "    </tr>\n",
       "    <tr>\n",
       "      <th>2014-02-01 10:00:00</th>\n",
       "      <td>1.372425</td>\n",
       "    </tr>\n",
       "    <tr>\n",
       "      <th>2014-02-01 11:00:00</th>\n",
       "      <td>1.368925</td>\n",
       "    </tr>\n",
       "    <tr>\n",
       "      <th>2014-02-01 12:00:00</th>\n",
       "      <td>1.364810</td>\n",
       "    </tr>\n",
       "    <tr>\n",
       "      <th>2014-02-01 13:00:00</th>\n",
       "      <td>1.365150</td>\n",
       "    </tr>\n",
       "    <tr>\n",
       "      <th>2014-02-01 14:00:00</th>\n",
       "      <td>1.364635</td>\n",
       "    </tr>\n",
       "    <tr>\n",
       "      <th>2014-02-01 15:00:00</th>\n",
       "      <td>1.365775</td>\n",
       "    </tr>\n",
       "    <tr>\n",
       "      <th>2014-02-01 16:00:00</th>\n",
       "      <td>1.366985</td>\n",
       "    </tr>\n",
       "    <tr>\n",
       "      <th>2014-02-01 17:00:00</th>\n",
       "      <td>1.367455</td>\n",
       "    </tr>\n",
       "    <tr>\n",
       "      <th>2014-02-01 18:00:00</th>\n",
       "      <td>1.366775</td>\n",
       "    </tr>\n",
       "    <tr>\n",
       "      <th>2014-02-01 19:00:00</th>\n",
       "      <td>1.365205</td>\n",
       "    </tr>\n",
       "    <tr>\n",
       "      <th>2014-02-01 20:00:00</th>\n",
       "      <td>1.366350</td>\n",
       "    </tr>\n",
       "    <tr>\n",
       "      <th>2014-02-01 21:00:00</th>\n",
       "      <td>1.367205</td>\n",
       "    </tr>\n",
       "    <tr>\n",
       "      <th>2014-02-01 22:00:00</th>\n",
       "      <td>1.366450</td>\n",
       "    </tr>\n",
       "    <tr>\n",
       "      <th>2014-02-01 23:00:00</th>\n",
       "      <td>1.366545</td>\n",
       "    </tr>\n",
       "    <tr>\n",
       "      <th>2014-03-01 00:00:00</th>\n",
       "      <td>1.366120</td>\n",
       "    </tr>\n",
       "    <tr>\n",
       "      <th>2014-03-01 01:00:00</th>\n",
       "      <td>1.365475</td>\n",
       "    </tr>\n",
       "  </tbody>\n",
       "</table>\n",
       "</div>"
      ],
      "text/plain": [
       "                         Rate\n",
       "Gmt time                     \n",
       "2014-01-01 00:00:00  1.374390\n",
       "2014-01-01 01:00:00  1.374390\n",
       "2014-01-01 02:00:00  1.374390\n",
       "2014-01-01 03:00:00  1.374390\n",
       "2014-01-01 04:00:00  1.374390\n",
       "2014-01-01 05:00:00  1.374390\n",
       "2014-01-01 06:00:00  1.374390\n",
       "2014-01-01 07:00:00  1.374390\n",
       "2014-01-01 08:00:00  1.374390\n",
       "2014-01-01 09:00:00  1.374390\n",
       "2014-01-01 10:00:00  1.374390\n",
       "2014-01-01 11:00:00  1.374390\n",
       "2014-01-01 12:00:00  1.374390\n",
       "2014-01-01 13:00:00  1.374390\n",
       "2014-01-01 14:00:00  1.374390\n",
       "2014-01-01 15:00:00  1.374390\n",
       "2014-01-01 16:00:00  1.374390\n",
       "2014-01-01 17:00:00  1.374390\n",
       "2014-01-01 18:00:00  1.374390\n",
       "2014-01-01 19:00:00  1.374390\n",
       "2014-01-01 20:00:00  1.374390\n",
       "2014-01-01 21:00:00  1.374390\n",
       "2014-01-01 22:00:00  1.376180\n",
       "2014-01-01 23:00:00  1.376600\n",
       "2014-02-01 00:00:00  1.375930\n",
       "2014-02-01 01:00:00  1.376365\n",
       "2014-02-01 02:00:00  1.376635\n",
       "2014-02-01 03:00:00  1.376620\n",
       "2014-02-01 04:00:00  1.374620\n",
       "2014-02-01 05:00:00  1.375745\n",
       "2014-02-01 06:00:00  1.375080\n",
       "2014-02-01 07:00:00  1.373215\n",
       "2014-02-01 08:00:00  1.372725\n",
       "2014-02-01 09:00:00  1.372950\n",
       "2014-02-01 10:00:00  1.372425\n",
       "2014-02-01 11:00:00  1.368925\n",
       "2014-02-01 12:00:00  1.364810\n",
       "2014-02-01 13:00:00  1.365150\n",
       "2014-02-01 14:00:00  1.364635\n",
       "2014-02-01 15:00:00  1.365775\n",
       "2014-02-01 16:00:00  1.366985\n",
       "2014-02-01 17:00:00  1.367455\n",
       "2014-02-01 18:00:00  1.366775\n",
       "2014-02-01 19:00:00  1.365205\n",
       "2014-02-01 20:00:00  1.366350\n",
       "2014-02-01 21:00:00  1.367205\n",
       "2014-02-01 22:00:00  1.366450\n",
       "2014-02-01 23:00:00  1.366545\n",
       "2014-03-01 00:00:00  1.366120\n",
       "2014-03-01 01:00:00  1.365475"
      ]
     },
     "execution_count": 3,
     "metadata": {},
     "output_type": "execute_result"
    }
   ],
   "source": [
    "from pathlib import Path\n",
    "csvpath=\"C:/Users/CS_Knit_tinK_SC/Documents/My Data Sources/111121/08_USD_per_Euro_Hourly_Mid_Prices.csv\"\n",
    "# csvpath = Path('../Resources/USD_per_Euro_Hourly_Mid_Prices.csv')\n",
    "df = pd.read_csv(csvpath, parse_dates=True, index_col='Gmt time')\n",
    "df.head(50)"
   ]
  },
  {
   "cell_type": "code",
   "execution_count": 4,
   "metadata": {},
   "outputs": [
    {
     "data": {
      "text/plain": [
       "<matplotlib.axes._subplots.AxesSubplot at 0x2c342da2a48>"
      ]
     },
     "execution_count": 4,
     "metadata": {},
     "output_type": "execute_result"
    },
    {
     "data": {
      "image/png": "[encoded data removed]",
      "text/plain": [
       "<Figure size 432x288 with 1 Axes>"
      ]
     },
     "metadata": {
      "needs_background": "light"
     },
     "output_type": "display_data"
    }
   ],
   "source": [
    "# Hourly EUR to USD exchange rates\n",
    "df.Rate.plot()"
   ]
  },
  {
   "cell_type": "markdown",
   "metadata": {},
   "source": [
    "<font color='red'>Comment</font>\n",
    "\n",
    "Below, since we start with hourly exchange rates, we convert to daily."
   ]
  },
  {
   "cell_type": "code",
   "execution_count": 5,
   "metadata": {},
   "outputs": [
    {
     "data": {
      "text/html": [
       "<div>\n",
       "<style scoped>\n",
       "    .dataframe tbody tr th:only-of-type {\n",
       "        vertical-align: middle;\n",
       "    }\n",
       "\n",
       "    .dataframe tbody tr th {\n",
       "        vertical-align: top;\n",
       "    }\n",
       "\n",
       "    .dataframe thead th {\n",
       "        text-align: right;\n",
       "    }\n",
       "</style>\n",
       "<table border=\"1\" class=\"dataframe\">\n",
       "  <thead>\n",
       "    <tr style=\"text-align: right;\">\n",
       "      <th></th>\n",
       "      <th>Rate</th>\n",
       "      <th>Return</th>\n",
       "    </tr>\n",
       "    <tr>\n",
       "      <th>Gmt time</th>\n",
       "      <th></th>\n",
       "      <th></th>\n",
       "    </tr>\n",
       "  </thead>\n",
       "  <tbody>\n",
       "    <tr>\n",
       "      <th>2014-01-01</th>\n",
       "      <td>1.374557</td>\n",
       "      <td>0.167748</td>\n",
       "    </tr>\n",
       "    <tr>\n",
       "      <th>2014-01-02</th>\n",
       "      <td>1.348635</td>\n",
       "      <td>-0.006302</td>\n",
       "    </tr>\n",
       "    <tr>\n",
       "      <th>2014-01-03</th>\n",
       "      <td>1.380160</td>\n",
       "      <td>-0.001811</td>\n",
       "    </tr>\n",
       "    <tr>\n",
       "      <th>2014-01-04</th>\n",
       "      <td>1.378907</td>\n",
       "      <td>0.141308</td>\n",
       "    </tr>\n",
       "    <tr>\n",
       "      <th>2014-01-05</th>\n",
       "      <td>1.387214</td>\n",
       "      <td>0.014192</td>\n",
       "    </tr>\n",
       "  </tbody>\n",
       "</table>\n",
       "</div>"
      ],
      "text/plain": [
       "                Rate    Return\n",
       "Gmt time                      \n",
       "2014-01-01  1.374557  0.167748\n",
       "2014-01-02  1.348635 -0.006302\n",
       "2014-01-03  1.380160 -0.001811\n",
       "2014-01-04  1.378907  0.141308\n",
       "2014-01-05  1.387214  0.014192"
      ]
     },
     "execution_count": 5,
     "metadata": {},
     "output_type": "execute_result"
    }
   ],
   "source": [
    "# Hourly percentage changes in exchange rate (resampled to daily)\n",
    "df['Return'] = df.Rate.pct_change() * 100 * 24  # stationarize, then scale hourly to daily, then 100 for ease of display\n",
    "df = df.resample('D').mean()  # get the daily average\n",
    "df = df.dropna()\n",
    "df.head()"
   ]
  },
  {
   "cell_type": "code",
   "execution_count": 6,
   "metadata": {},
   "outputs": [
    {
     "data": {
      "text/plain": [
       "<matplotlib.axes._subplots.AxesSubplot at 0x2c341f0aa88>"
      ]
     },
     "execution_count": 6,
     "metadata": {},
     "output_type": "execute_result"
    },
    {
     "data": {
      "image/png": "[encoded data removed]",
      "text/plain": [
       "<Figure size 432x288 with 1 Axes>"
      ]
     },
     "metadata": {
      "needs_background": "light"
     },
     "output_type": "display_data"
    }
   ],
   "source": [
    "df.Return.plot()"
   ]
  },
  {
   "cell_type": "markdown",
   "metadata": {},
   "source": [
    "# GARCH"
   ]
  },
  {
   "cell_type": "code",
   "execution_count": 7,
   "metadata": {},
   "outputs": [],
   "source": [
    "from arch import arch_model"
   ]
  },
  {
   "cell_type": "code",
   "execution_count": 8,
   "metadata": {},
   "outputs": [],
   "source": [
    "# Create the GARCH model\n",
    "model = arch_model(df.Return, mean=\"Zero\", vol=\"GARCH\", p=2, q=2)\n",
    "results = model.fit(disp=\"off\")"
   ]
  },
  {
   "cell_type": "code",
   "execution_count": 9,
   "metadata": {},
   "outputs": [
    {
     "data": {
      "text/html": [
       "<table class=\"simpletable\">\n",
       "<caption>Zero Mean - GARCH Model Results</caption>\n",
       "<tr>\n",
       "  <th>Dep. Variable:</th>       <td>Return</td>       <th>  R-squared:         </th>  <td>   0.000</td> \n",
       "</tr>\n",
       "<tr>\n",
       "  <th>Mean Model:</th>         <td>Zero Mean</td>     <th>  Adj. R-squared:    </th>  <td>   0.000</td> \n",
       "</tr>\n",
       "<tr>\n",
       "  <th>Vol Model:</th>            <td>GARCH</td>       <th>  Log-Likelihood:    </th> <td>  -1096.83</td>\n",
       "</tr>\n",
       "<tr>\n",
       "  <th>Distribution:</th>        <td>Normal</td>       <th>  AIC:               </th> <td>   2203.66</td>\n",
       "</tr>\n",
       "<tr>\n",
       "  <th>Method:</th>        <td>Maximum Likelihood</td> <th>  BIC:               </th> <td>   2231.82</td>\n",
       "</tr>\n",
       "<tr>\n",
       "  <th></th>                        <td></td>          <th>  No. Observations:  </th>    <td>2062</td>   \n",
       "</tr>\n",
       "<tr>\n",
       "  <th>Date:</th>           <td>Fri, Nov 12 2021</td>  <th>  Df Residuals:      </th>    <td>2062</td>   \n",
       "</tr>\n",
       "<tr>\n",
       "  <th>Time:</th>               <td>14:36:28</td>      <th>  Df Model:          </th>      <td>0</td>    \n",
       "</tr>\n",
       "</table>\n",
       "<table class=\"simpletable\">\n",
       "<caption>Volatility Model</caption>\n",
       "<tr>\n",
       "      <td></td>        <th>coef</th>     <th>std err</th>      <th>t</th>       <th>P>|t|</th>      <th>95.0% Conf. Int.</th>   \n",
       "</tr>\n",
       "<tr>\n",
       "  <th>omega</th>    <td>1.1421e-03</td> <td>1.725e-02</td> <td>6.622e-02</td> <td>    0.947</td> <td>[-3.266e-02,3.494e-02]</td>\n",
       "</tr>\n",
       "<tr>\n",
       "  <th>alpha[1]</th> <td>    0.0241</td> <td>    0.503</td> <td>4.799e-02</td> <td>    0.962</td>    <td>[ -0.961,  1.010]</td>  \n",
       "</tr>\n",
       "<tr>\n",
       "  <th>alpha[2]</th> <td>3.8604e-13</td> <td>    0.886</td> <td>4.359e-13</td> <td>    1.000</td>    <td>[ -1.736,  1.736]</td>  \n",
       "</tr>\n",
       "<tr>\n",
       "  <th>beta[1]</th>  <td>    0.3905</td> <td>   21.541</td> <td>1.813e-02</td> <td>    0.986</td>    <td>[-41.830, 42.611]</td>  \n",
       "</tr>\n",
       "<tr>\n",
       "  <th>beta[2]</th>  <td>    0.5792</td> <td>   21.069</td> <td>2.749e-02</td> <td>    0.978</td>    <td>[-40.716, 41.874]</td>  \n",
       "</tr>\n",
       "</table><br/><br/>Covariance estimator: robust"
      ],
      "text/plain": [
       "<class 'statsmodels.iolib.summary.Summary'>\n",
       "\"\"\"\n",
       "                       Zero Mean - GARCH Model Results                        \n",
       "==============================================================================\n",
       "Dep. Variable:                 Return   R-squared:                       0.000\n",
       "Mean Model:                 Zero Mean   Adj. R-squared:                  0.000\n",
       "Vol Model:                      GARCH   Log-Likelihood:               -1096.83\n",
       "Distribution:                  Normal   AIC:                           2203.66\n",
       "Method:            Maximum Likelihood   BIC:                           2231.82\n",
       "                                        No. Observations:                 2062\n",
       "Date:                Fri, Nov 12 2021   Df Residuals:                     2062\n",
       "Time:                        14:36:28   Df Model:                            0\n",
       "                               Volatility Model                              \n",
       "=============================================================================\n",
       "                 coef    std err          t      P>|t|       95.0% Conf. Int.\n",
       "-----------------------------------------------------------------------------\n",
       "omega      1.1421e-03  1.725e-02  6.622e-02      0.947 [-3.266e-02,3.494e-02]\n",
       "alpha[1]       0.0241      0.503  4.799e-02      0.962      [ -0.961,  1.010]\n",
       "alpha[2]   3.8604e-13      0.886  4.359e-13      1.000      [ -1.736,  1.736]\n",
       "beta[1]        0.3905     21.541  1.813e-02      0.986      [-41.830, 42.611]\n",
       "beta[2]        0.5792     21.069  2.749e-02      0.978      [-40.716, 41.874]\n",
       "=============================================================================\n",
       "\n",
       "Covariance estimator: robust\n",
       "\"\"\""
      ]
     },
     "execution_count": 9,
     "metadata": {},
     "output_type": "execute_result"
    }
   ],
   "source": [
    "# Output the model summary\n",
    "results.summary()"
   ]
  },
  {
   "cell_type": "code",
   "execution_count": 10,
   "metadata": {},
   "outputs": [
    {
     "name": "stderr",
     "output_type": "stream",
     "text": [
      "C:\\Users\\CS_Knit_tinK_SC\\anaconda3\\envs\\TSMLPyViz\\lib\\site-packages\\matplotlib\\cbook\\__init__.py:1377: FutureWarning: Support for multi-dimensional indexing (e.g. `obj[:, None]`) is deprecated and will be removed in a future version.  Convert to a numpy array before indexing instead.\n",
      "  x[:, None]\n",
      "C:\\Users\\CS_Knit_tinK_SC\\anaconda3\\envs\\TSMLPyViz\\lib\\site-packages\\matplotlib\\axes\\_base.py:239: FutureWarning: Support for multi-dimensional indexing (e.g. `obj[:, None]`) is deprecated and will be removed in a future version.  Convert to a numpy array before indexing instead.\n",
      "  y = y[:, np.newaxis]\n"
     ]
    },
    {
     "data": {
      "image/png": "[encoded data removed]",
      "text/plain": [
       "<Figure size 432x288 with 2 Axes>"
      ]
     },
     "metadata": {
      "needs_background": "light"
     },
     "output_type": "display_data"
    }
   ],
   "source": [
    "# Plot the model estimate of the annualized volatility\n",
    "fig = results.plot(annualize='D')"
   ]
  },
  {
   "cell_type": "markdown",
   "metadata": {},
   "source": [
    "# Forecasting from GARCH"
   ]
  },
  {
   "cell_type": "code",
   "execution_count": 11,
   "metadata": {},
   "outputs": [
    {
     "data": {
      "text/plain": [
       "'2019-12-08'"
      ]
     },
     "execution_count": 11,
     "metadata": {},
     "output_type": "execute_result"
    }
   ],
   "source": [
    "# Find the last day of the dataset\n",
    "last_day = df.index.max().strftime('%Y-%m-%d')\n",
    "last_day"
   ]
  },
  {
   "cell_type": "code",
   "execution_count": 12,
   "metadata": {},
   "outputs": [
    {
     "name": "stderr",
     "output_type": "stream",
     "text": [
      "C:\\Users\\CS_Knit_tinK_SC\\anaconda3\\envs\\TSMLPyViz\\lib\\site-packages\\arch\\__future__\\_utility.py:21: FutureWarning: \n",
      "The default for reindex is True. After September 2021 this will change to\n",
      "False. Set reindex to True or False to silence this message. Alternatively,\n",
      "you can use the import comment\n",
      "\n",
      "from arch.__future__ import reindexing\n",
      "\n",
      "to globally set reindex to True and silence this warning.\n",
      "\n",
      "  FutureWarning,\n"
     ]
    }
   ],
   "source": [
    "# Create a 5 day forecast of EUR to USD exchange rate volatility\n",
    "forecast_horizon = 5\n",
    "# Take the last day of the data we used above. \n",
    "# If forecast horizon is 3, then the resulting 'h.1', 'h.2', and 'h.3' \n",
    "# are the forecasts for the following 3 days.\n",
    "forecasts = results.forecast(start=last_day, horizon=forecast_horizon)"
   ]
  },
  {
   "cell_type": "code",
   "execution_count": 13,
   "metadata": {},
   "outputs": [
    {
     "data": {
      "text/html": [
       "<div>\n",
       "<style scoped>\n",
       "    .dataframe tbody tr th:only-of-type {\n",
       "        vertical-align: middle;\n",
       "    }\n",
       "\n",
       "    .dataframe tbody tr th {\n",
       "        vertical-align: top;\n",
       "    }\n",
       "\n",
       "    .dataframe thead th {\n",
       "        text-align: right;\n",
       "    }\n",
       "</style>\n",
       "<table border=\"1\" class=\"dataframe\">\n",
       "  <thead>\n",
       "    <tr style=\"text-align: right;\">\n",
       "      <th></th>\n",
       "      <th>h.1</th>\n",
       "      <th>h.2</th>\n",
       "      <th>h.3</th>\n",
       "      <th>h.4</th>\n",
       "      <th>h.5</th>\n",
       "    </tr>\n",
       "    <tr>\n",
       "      <th>Gmt time</th>\n",
       "      <th></th>\n",
       "      <th></th>\n",
       "      <th></th>\n",
       "      <th></th>\n",
       "      <th></th>\n",
       "    </tr>\n",
       "  </thead>\n",
       "  <tbody>\n",
       "    <tr>\n",
       "      <th>2019-12-08</th>\n",
       "      <td>4.863314</td>\n",
       "      <td>4.877809</td>\n",
       "      <td>4.883833</td>\n",
       "      <td>4.89469</td>\n",
       "      <td>4.902659</td>\n",
       "    </tr>\n",
       "  </tbody>\n",
       "</table>\n",
       "</div>"
      ],
      "text/plain": [
       "                 h.1       h.2       h.3      h.4       h.5\n",
       "Gmt time                                                   \n",
       "2019-12-08  4.863314  4.877809  4.883833  4.89469  4.902659"
      ]
     },
     "execution_count": 13,
     "metadata": {},
     "output_type": "execute_result"
    }
   ],
   "source": [
    "# Annualize the forecast\n",
    "intermediate = np.sqrt(forecasts.variance.dropna() * 252)\n",
    "intermediate.head()"
   ]
  },
  {
   "cell_type": "markdown",
   "metadata": {},
   "source": [
    "# Visualizing the forecast"
   ]
  },
  {
   "cell_type": "code",
   "execution_count": 14,
   "metadata": {},
   "outputs": [
    {
     "data": {
      "text/html": [
       "<div>\n",
       "<style scoped>\n",
       "    .dataframe tbody tr th:only-of-type {\n",
       "        vertical-align: middle;\n",
       "    }\n",
       "\n",
       "    .dataframe tbody tr th {\n",
       "        vertical-align: top;\n",
       "    }\n",
       "\n",
       "    .dataframe thead th {\n",
       "        text-align: right;\n",
       "    }\n",
       "</style>\n",
       "<table border=\"1\" class=\"dataframe\">\n",
       "  <thead>\n",
       "    <tr style=\"text-align: right;\">\n",
       "      <th>Gmt time</th>\n",
       "      <th>2019-12-08</th>\n",
       "    </tr>\n",
       "  </thead>\n",
       "  <tbody>\n",
       "    <tr>\n",
       "      <th>h.1</th>\n",
       "      <td>4.863314</td>\n",
       "    </tr>\n",
       "    <tr>\n",
       "      <th>h.2</th>\n",
       "      <td>4.877809</td>\n",
       "    </tr>\n",
       "    <tr>\n",
       "      <th>h.3</th>\n",
       "      <td>4.883833</td>\n",
       "    </tr>\n",
       "    <tr>\n",
       "      <th>h.4</th>\n",
       "      <td>4.894690</td>\n",
       "    </tr>\n",
       "    <tr>\n",
       "      <th>h.5</th>\n",
       "      <td>4.902659</td>\n",
       "    </tr>\n",
       "  </tbody>\n",
       "</table>\n",
       "</div>"
      ],
      "text/plain": [
       "Gmt time  2019-12-08\n",
       "h.1         4.863314\n",
       "h.2         4.877809\n",
       "h.3         4.883833\n",
       "h.4         4.894690\n",
       "h.5         4.902659"
      ]
     },
     "execution_count": 14,
     "metadata": {},
     "output_type": "execute_result"
    }
   ],
   "source": [
    "# Transpose the forecast so that it is easier to plot\n",
    "final = intermediate.dropna().T\n",
    "final.head()"
   ]
  },
  {
   "cell_type": "code",
   "execution_count": 15,
   "metadata": {},
   "outputs": [
    {
     "data": {
      "text/plain": [
       "<matplotlib.axes._subplots.AxesSubplot at 0x2c3477f7788>"
      ]
     },
     "execution_count": 15,
     "metadata": {},
     "output_type": "execute_result"
    },
    {
     "data": {
      "image/png": "[encoded data removed]",
      "text/plain": [
       "<Figure size 432x288 with 1 Axes>"
      ]
     },
     "metadata": {
      "needs_background": "light"
     },
     "output_type": "display_data"
    }
   ],
   "source": [
    "# Plot the final forecast\n",
    "final.plot(title=\"5 Day Exchange Rate Forecast of Volatility\")"
   ]
  },
  {
   "cell_type": "markdown",
   "metadata": {},
   "source": [
    "Question: Is the exchange rate risk expected to increase or decrease over the next 5 days?\n",
    "\n",
    "Answer: Based on the upward trend in the forecast plot, the exchange rate risk is expected to increase."
   ]
  },
  {
   "cell_type": "code",
   "execution_count": null,
   "metadata": {},
   "outputs": [],
   "source": []
  }
 ],
 "metadata": {
  "kernelspec": {
   "display_name": "Python [conda env:TSMLPyViz] *",
   "language": "python",
   "name": "conda-env-TSMLPyViz-py"
  },
  "language_info": {
   "codemirror_mode": {
    "name": "ipython",
    "version": 3
   },
   "file_extension": ".py",
   "mimetype": "text/x-python",
   "name": "python",
   "nbconvert_exporter": "python",
   "pygments_lexer": "ipython3",
   "version": "3.7.10"
  }
 },
 "nbformat": 4,
 "nbformat_minor": 4
}
